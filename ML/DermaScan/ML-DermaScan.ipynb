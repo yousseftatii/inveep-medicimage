{
 "cells": [
  {
   "cell_type": "code",
   "execution_count": 1,
   "metadata": {},
   "outputs": [
    {
     "name": "stdout",
     "output_type": "stream",
     "text": [
      "Collecting efficientnet-pytorch\n",
      "  Downloading efficientnet_pytorch-0.7.1.tar.gz (21 kB)\n",
      "  Preparing metadata (setup.py): started\n",
      "  Preparing metadata (setup.py): finished with status 'done'\n",
      "Requirement already satisfied: torch in c:\\users\\youss\\anaconda3\\envs\\derma_env\\lib\\site-packages (from efficientnet-pytorch) (2.7.1+cu128)\n",
      "Requirement already satisfied: filelock in c:\\users\\youss\\anaconda3\\envs\\derma_env\\lib\\site-packages (from torch->efficientnet-pytorch) (3.13.1)\n",
      "Requirement already satisfied: typing-extensions>=4.10.0 in c:\\users\\youss\\anaconda3\\envs\\derma_env\\lib\\site-packages (from torch->efficientnet-pytorch) (4.14.0)\n",
      "Requirement already satisfied: sympy>=1.13.3 in c:\\users\\youss\\anaconda3\\envs\\derma_env\\lib\\site-packages (from torch->efficientnet-pytorch) (1.13.3)\n",
      "Requirement already satisfied: networkx in c:\\users\\youss\\anaconda3\\envs\\derma_env\\lib\\site-packages (from torch->efficientnet-pytorch) (3.3)\n",
      "Requirement already satisfied: jinja2 in c:\\users\\youss\\anaconda3\\envs\\derma_env\\lib\\site-packages (from torch->efficientnet-pytorch) (3.1.6)\n",
      "Requirement already satisfied: fsspec in c:\\users\\youss\\anaconda3\\envs\\derma_env\\lib\\site-packages (from torch->efficientnet-pytorch) (2024.6.1)\n",
      "Requirement already satisfied: mpmath<1.4,>=1.1.0 in c:\\users\\youss\\anaconda3\\envs\\derma_env\\lib\\site-packages (from sympy>=1.13.3->torch->efficientnet-pytorch) (1.3.0)\n",
      "Requirement already satisfied: MarkupSafe>=2.0 in c:\\users\\youss\\anaconda3\\envs\\derma_env\\lib\\site-packages (from jinja2->torch->efficientnet-pytorch) (3.0.2)\n",
      "Building wheels for collected packages: efficientnet-pytorch\n",
      "  Building wheel for efficientnet-pytorch (setup.py): started\n",
      "  Building wheel for efficientnet-pytorch (setup.py): finished with status 'done'\n",
      "  Created wheel for efficientnet-pytorch: filename=efficientnet_pytorch-0.7.1-py3-none-any.whl size=16521 sha256=8d073156f2999086b49796dfdb4d571bdca0fca46cf2d73b1e996145dd2eed8d\n",
      "  Stored in directory: c:\\users\\youss\\appdata\\local\\pip\\cache\\wheels\\03\\3f\\e9\\911b1bc46869644912bda90a56bcf7b960f20b5187feea3baf\n",
      "Successfully built efficientnet-pytorch\n",
      "Installing collected packages: efficientnet-pytorch\n",
      "Successfully installed efficientnet-pytorch-0.7.1\n"
     ]
    },
    {
     "name": "stderr",
     "output_type": "stream",
     "text": [
      "  DEPRECATION: Building 'efficientnet-pytorch' using the legacy setup.py bdist_wheel mechanism, which will be removed in a future version. pip 25.3 will enforce this behaviour change. A possible replacement is to use the standardized build interface by setting the `--use-pep517` option, (possibly combined with `--no-build-isolation`), or adding a `pyproject.toml` file to the source tree of 'efficientnet-pytorch'. Discussion can be found at https://github.com/pypa/pip/issues/6334\n"
     ]
    }
   ],
   "source": [
    "!pip install efficientnet-pytorch"
   ]
  },
  {
   "cell_type": "code",
   "execution_count": 1,
   "metadata": {},
   "outputs": [],
   "source": [
    "# Import necessary libraries\n",
    "import torch\n",
    "import torchvision\n",
    "from torchvision import transforms, datasets\n",
    "from torch.utils.data import DataLoader\n",
    "import torch.nn as nn\n",
    "import torch.optim as optim\n",
    "import numpy as np\n",
    "from efficientnet_pytorch import EfficientNet\n"
   ]
  },
  {
   "cell_type": "code",
   "execution_count": 2,
   "metadata": {},
   "outputs": [],
   "source": [
    "# Define transformations for training and validation\n",
    "train_transform = transforms.Compose([\n",
    "    transforms.Resize((224, 224)),\n",
    "    transforms.RandomHorizontalFlip(),\n",
    "    transforms.RandomRotation(15),\n",
    "    transforms.ColorJitter(brightness=0.3, contrast=0.3, saturation=0.3, hue=0.2),\n",
    "    transforms.RandomAffine(degrees=0, translate=(0.1, 0.1), scale=(0.8, 1.2)),\n",
    "    transforms.ToTensor(),\n",
    "    transforms.Normalize(mean=[0.485, 0.456, 0.406], std=[0.229, 0.224, 0.225])\n",
    "])\n",
    "\n",
    "val_transform = transforms.Compose([\n",
    "    transforms.Resize((224, 224)),\n",
    "    transforms.ToTensor(),\n",
    "    transforms.Normalize(mean=[0.485, 0.456, 0.406], std=[0.229, 0.224, 0.225])\n",
    "])\n"
   ]
  },
  {
   "cell_type": "code",
   "execution_count": 3,
   "metadata": {},
   "outputs": [],
   "source": [
    "# Load datasets\n",
    "train_dataset = datasets.ImageFolder('DATA/train', transform=train_transform)\n",
    "val_dataset = datasets.ImageFolder('DATA/testing', transform=val_transform)\n",
    "class_names = train_dataset.classes  # ['Acne', 'Actinic Keratosis', 'Basal Cell Carcinoma', 'Eczemaa', 'Rosacea']\n",
    "\n",
    "train_loader = DataLoader(train_dataset, batch_size=32, shuffle=True)\n",
    "val_loader = DataLoader(val_dataset, batch_size=32, shuffle=False)"
   ]
  },
  {
   "cell_type": "code",
   "execution_count": 4,
   "metadata": {},
   "outputs": [
    {
     "name": "stdout",
     "output_type": "stream",
     "text": [
      "Downloading: \"https://github.com/lukemelas/EfficientNet-PyTorch/releases/download/1.0/efficientnet-b0-355c32eb.pth\" to C:\\Users\\youss/.cache\\torch\\hub\\checkpoints\\efficientnet-b0-355c32eb.pth\n"
     ]
    },
    {
     "name": "stderr",
     "output_type": "stream",
     "text": [
      "100.0%\n"
     ]
    },
    {
     "name": "stdout",
     "output_type": "stream",
     "text": [
      "Loaded pretrained weights for efficientnet-b0\n"
     ]
    }
   ],
   "source": [
    "# Load pre-trained EfficientNet-B0 and modify the final layer\n",
    "model = EfficientNet.from_pretrained('efficientnet-b0')\n",
    "model._fc = nn.Linear(model._fc.in_features, 5)  # 5 disease classes\n",
    "device = torch.device(\"cuda\" if torch.cuda.is_available() else \"cpu\")\n",
    "model = model.to(device)\n",
    "\n",
    "# Define loss function and optimizer\n",
    "criterion = nn.CrossEntropyLoss()\n",
    "optimizer = optim.Adam(model.parameters(), lr=0.001)\n",
    "scheduler = optim.lr_scheduler.ReduceLROnPlateau(optimizer, mode='min', factor=0.1, patience=3)\n"
   ]
  },
  {
   "cell_type": "code",
   "execution_count": 5,
   "metadata": {},
   "outputs": [],
   "source": [
    "# Training function\n",
    "def train_model(model, train_loader, val_loader, criterion, optimizer, scheduler, num_epochs=15):\n",
    "    best_acc = 0.0\n",
    "    for epoch in range(num_epochs):\n",
    "        model.train()\n",
    "        running_loss = 0.0\n",
    "        for images, labels in train_loader:\n",
    "            images, labels = images.to(device), labels.to(device)\n",
    "            optimizer.zero_grad()\n",
    "            outputs = model(images)\n",
    "            loss = criterion(outputs, labels)\n",
    "            loss.backward()\n",
    "            optimizer.step()\n",
    "            running_loss += loss.item()\n",
    "        \n",
    "        # Validation\n",
    "        model.eval()\n",
    "        correct = 0\n",
    "        total = 0\n",
    "        val_loss = 0.0\n",
    "        with torch.no_grad():\n",
    "            for images, labels in val_loader:\n",
    "                images, labels = images.to(device), labels.to(device)\n",
    "                outputs = model(images)\n",
    "                loss = criterion(outputs, labels)\n",
    "                val_loss += loss.item()\n",
    "                _, predicted = torch.max(outputs.data, 1)\n",
    "                total += labels.size(0)\n",
    "                correct += (predicted == labels).sum().item()\n",
    "        acc = 100 * correct / total\n",
    "        val_loss = val_loss / len(val_loader)\n",
    "        scheduler.step(val_loss)\n",
    "        print(f'Epoch {epoch+1}/{num_epochs}, Loss: {running_loss/len(train_loader):.4f}, '\n",
    "              f'Val Loss: {val_loss:.4f}, Val Accuracy: {acc:.2f}%')\n",
    "        if acc > best_acc:\n",
    "            best_acc = acc\n",
    "            torch.save(model.state_dict(), 'disease_classifier.pth')\n"
   ]
  },
  {
   "cell_type": "code",
   "execution_count": 6,
   "metadata": {},
   "outputs": [],
   "source": [
    "# Evaluation function with probability distribution\n",
    "def evaluate_model(model, val_loader, class_names, threshold=0.85):\n",
    "    model.eval()\n",
    "    correct = 0\n",
    "    total = 0\n",
    "    results = []\n",
    "    with torch.no_grad():\n",
    "        for images, labels in val_loader:\n",
    "            images, labels = images.to(device), labels.to(device)\n",
    "            outputs = model(images)\n",
    "            probabilities = torch.softmax(outputs, dim=1)\n",
    "            for i in range(images.size(0)):\n",
    "                true_label = labels[i].item()\n",
    "                probs = probabilities[i].cpu().numpy()\n",
    "                pred_label = np.argmax(probs)\n",
    "                is_correct = probs[true_label] >= threshold\n",
    "                total += 1\n",
    "                if is_correct:\n",
    "                    correct += 1\n",
    "                # Format probability output\n",
    "                prob_output = ', '.join([f'{class_names[j]}: {probs[j]*100:.2f}%' for j in range(len(class_names))])\n",
    "                results.append({\n",
    "                    'true_label': class_names[true_label],\n",
    "                    'predicted_label': class_names[pred_label],\n",
    "                    'probabilities': prob_output,\n",
    "                    'correct': is_correct\n",
    "                })\n",
    "    accuracy = 100 * correct / total\n",
    "    return results, accuracy\n"
   ]
  },
  {
   "cell_type": "code",
   "execution_count": 7,
   "metadata": {},
   "outputs": [
    {
     "name": "stdout",
     "output_type": "stream",
     "text": [
      "Training the classifier...\n",
      "Epoch 1/15, Loss: 1.2429, Val Loss: 1.6565, Val Accuracy: 44.86%\n",
      "Epoch 2/15, Loss: 0.7345, Val Loss: 2.0440, Val Accuracy: 54.59%\n",
      "Epoch 3/15, Loss: 0.4735, Val Loss: 1.8370, Val Accuracy: 59.46%\n",
      "Epoch 4/15, Loss: 0.3494, Val Loss: 2.5703, Val Accuracy: 61.62%\n",
      "Epoch 5/15, Loss: 0.2878, Val Loss: 2.8409, Val Accuracy: 59.46%\n",
      "Epoch 6/15, Loss: 0.1968, Val Loss: 2.5547, Val Accuracy: 63.78%\n",
      "Epoch 7/15, Loss: 0.1616, Val Loss: 2.1275, Val Accuracy: 65.95%\n",
      "Epoch 8/15, Loss: 0.1212, Val Loss: 1.7456, Val Accuracy: 69.73%\n",
      "Epoch 9/15, Loss: 0.1364, Val Loss: 1.4883, Val Accuracy: 70.81%\n",
      "Epoch 10/15, Loss: 0.1229, Val Loss: 1.2490, Val Accuracy: 71.89%\n",
      "Epoch 11/15, Loss: 0.0746, Val Loss: 1.0878, Val Accuracy: 72.97%\n",
      "Epoch 12/15, Loss: 0.0989, Val Loss: 0.9772, Val Accuracy: 74.05%\n",
      "Epoch 13/15, Loss: 0.1095, Val Loss: 0.9345, Val Accuracy: 75.68%\n",
      "Epoch 14/15, Loss: 0.0574, Val Loss: 0.9008, Val Accuracy: 77.30%\n",
      "Epoch 15/15, Loss: 0.0865, Val Loss: 0.8250, Val Accuracy: 77.84%\n"
     ]
    }
   ],
   "source": [
    "# Train the model\n",
    "print(\"Training the classifier...\")\n",
    "train_model(model, train_loader, val_loader, criterion, optimizer, scheduler)\n"
   ]
  },
  {
   "cell_type": "code",
   "execution_count": 9,
   "metadata": {},
   "outputs": [
    {
     "name": "stdout",
     "output_type": "stream",
     "text": [
      "\n",
      "Evaluating on test set...\n",
      "\n",
      "Test Accuracy (threshold >= 85%): 69.19%\n",
      "\n",
      "Sample Predictions:\n",
      "Image 1:\n",
      "True Label: Acne\n",
      "Predicted Label: Eczemaa\n",
      "Probabilities: Acne: 2.48%, Actinic Keratosis: 0.06%, Basal Cell Carcinoma: 0.02%, Eczemaa: 97.40%, Rosacea: 0.03%\n",
      "Correct: False\n",
      "\n",
      "Image 2:\n",
      "True Label: Acne\n",
      "Predicted Label: Eczemaa\n",
      "Probabilities: Acne: 6.88%, Actinic Keratosis: 0.30%, Basal Cell Carcinoma: 0.09%, Eczemaa: 92.70%, Rosacea: 0.03%\n",
      "Correct: False\n",
      "\n",
      "Image 3:\n",
      "True Label: Acne\n",
      "Predicted Label: Acne\n",
      "Probabilities: Acne: 99.91%, Actinic Keratosis: 0.02%, Basal Cell Carcinoma: 0.02%, Eczemaa: 0.01%, Rosacea: 0.03%\n",
      "Correct: True\n",
      "\n",
      "Image 4:\n",
      "True Label: Acne\n",
      "Predicted Label: Eczemaa\n",
      "Probabilities: Acne: 4.79%, Actinic Keratosis: 0.33%, Basal Cell Carcinoma: 0.34%, Eczemaa: 94.13%, Rosacea: 0.41%\n",
      "Correct: False\n",
      "\n",
      "Image 5:\n",
      "True Label: Acne\n",
      "Predicted Label: Acne\n",
      "Probabilities: Acne: 99.99%, Actinic Keratosis: 0.00%, Basal Cell Carcinoma: 0.00%, Eczemaa: 0.00%, Rosacea: 0.00%\n",
      "Correct: True\n",
      "\n"
     ]
    }
   ],
   "source": [
    "# Load the best model\n",
    "model.load_state_dict(torch.load('disease_classifier.pth'))\n",
    "model.to(device)\n",
    "\n",
    "# Evaluate on test set\n",
    "print(\"\\nEvaluating on test set...\")\n",
    "results, accuracy = evaluate_model(model, val_loader, class_names)\n",
    "print(f\"\\nTest Accuracy (threshold >= 85%): {accuracy:.2f}%\")\n",
    "print(\"\\nSample Predictions:\")\n",
    "for i, result in enumerate(results[:5]):  # Show first 5 predictions\n",
    "    print(f\"Image {i+1}:\")\n",
    "    print(f\"True Label: {result['true_label']}\")\n",
    "    print(f\"Predicted Label: {result['predicted_label']}\")\n",
    "    print(f\"Probabilities: {result['probabilities']}\")\n",
    "    print(f\"Correct: {result['correct']}\")\n",
    "    print()"
   ]
  },
  {
   "cell_type": "code",
   "execution_count": null,
   "metadata": {},
   "outputs": [],
   "source": []
  }
 ],
 "metadata": {
  "kernelspec": {
   "display_name": "derma_env",
   "language": "python",
   "name": "python3"
  },
  "language_info": {
   "codemirror_mode": {
    "name": "ipython",
    "version": 3
   },
   "file_extension": ".py",
   "mimetype": "text/x-python",
   "name": "python",
   "nbconvert_exporter": "python",
   "pygments_lexer": "ipython3",
   "version": "3.10.18"
  }
 },
 "nbformat": 4,
 "nbformat_minor": 2
}
